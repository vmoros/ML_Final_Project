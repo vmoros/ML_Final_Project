{
 "cells": [
  {
   "cell_type": "markdown",
   "metadata": {},
   "source": [
    "<h1><center>scikit-learn implementations of Extension 3 - Neural Net with Nesterov momentum</center></h1>"
   ]
  },
  {
   "cell_type": "markdown",
   "metadata": {},
   "source": [
    "### Imports"
   ]
  },
  {
   "cell_type": "code",
   "execution_count": 1,
   "metadata": {},
   "outputs": [],
   "source": [
    "from sklearn.datasets import load_digits\n",
    "from sklearn.preprocessing import StandardScaler\n",
    "from sklearn.model_selection import train_test_split\n",
    "from sklearn.metrics import accuracy_score\n",
    "from sklearn.neural_network import MLPClassifier\n",
    "import numpy as np\n",
    "import numpy.random as r\n",
    "import matplotlib.pyplot as plt\n",
    "import pandas as pd"
   ]
  },
  {
   "cell_type": "markdown",
   "metadata": {},
   "source": [
    "### Get and scale the digits data"
   ]
  },
  {
   "cell_type": "code",
   "execution_count": 2,
   "metadata": {},
   "outputs": [],
   "source": [
    "digits = load_digits()\n",
    "X_all = digits.data\n",
    "X_all = StandardScaler().fit_transform(X_all)\n",
    "y_all = digits.target"
   ]
  },
  {
   "cell_type": "markdown",
   "metadata": {},
   "source": [
    "### Make train/test split"
   ]
  },
  {
   "cell_type": "code",
   "execution_count": 3,
   "metadata": {},
   "outputs": [],
   "source": [
    "X_train, X_test, y_train, y_test = train_test_split(X_all, y_all, train_size=0.8, random_state=0)"
   ]
  },
  {
   "cell_type": "markdown",
   "metadata": {},
   "source": [
    "### One-hot encoding"
   ]
  },
  {
   "cell_type": "code",
   "execution_count": 4,
   "metadata": {},
   "outputs": [],
   "source": [
    "def convert_y_to_vect(y):\n",
    "    y_vect = np.zeros((len(y), 10))\n",
    "    for i in range(len(y)):\n",
    "        y_vect[i, y[i]] = 1\n",
    "    return y_vect"
   ]
  },
  {
   "cell_type": "code",
   "execution_count": 5,
   "metadata": {},
   "outputs": [],
   "source": [
    "y_v_train = convert_y_to_vect(y_train)\n",
    "y_v_test = convert_y_to_vect(y_test)"
   ]
  },
  {
   "cell_type": "markdown",
   "metadata": {},
   "source": [
    "### Get the spam data"
   ]
  },
  {
   "cell_type": "code",
   "execution_count": 6,
   "metadata": {},
   "outputs": [],
   "source": [
    "df = pd.read_table('SMSSpamCollection', sep = '\\t', header=None, names=['label', 'sms_message'])\n",
    "df['label']=df.label.map({'spam':1, 'ham':0})\n",
    "df_train_msgs, df_test_msgs, df_ytrain, df_ytest = train_test_split(df['sms_message'],df['label'], random_state=0)\n",
    "from sklearn.feature_extraction.text import CountVectorizer\n",
    "vectorizer = CountVectorizer(binary = True, stop_words='english')\n",
    "vectorizer.fit(df_train_msgs)\n",
    "X_train_msgs = vectorizer.transform(df_train_msgs).toarray()\n",
    "X_test_msgs = vectorizer.transform(df_test_msgs).toarray()\n",
    "y_train_msgs = df_ytrain.to_numpy()\n",
    "y_test_msgs = df_ytest.to_numpy()"
   ]
  },
  {
   "cell_type": "code",
   "execution_count": 7,
   "metadata": {},
   "outputs": [],
   "source": [
    "def convert_y_to_vect_spam(y):\n",
    "    y_vect = np.zeros((len(y), 2))\n",
    "    for i in range(len(y)):\n",
    "        y_vect[i, y[i]] = 1\n",
    "    return y_vect"
   ]
  },
  {
   "cell_type": "code",
   "execution_count": 8,
   "metadata": {},
   "outputs": [],
   "source": [
    "y_v_train_msgs = convert_y_to_vect_spam(y_train_msgs)\n",
    "y_v_test_msgs = convert_y_to_vect_spam(y_test_msgs)"
   ]
  },
  {
   "cell_type": "markdown",
   "metadata": {},
   "source": [
    "# Evaluate scikit-learn's accuracy"
   ]
  },
  {
   "cell_type": "markdown",
   "metadata": {},
   "source": [
    "### i) Check the accuracy of sklearn's plain neural network on the digits data"
   ]
  },
  {
   "cell_type": "code",
   "execution_count": 9,
   "metadata": {},
   "outputs": [
    {
     "name": "stdout",
     "output_type": "stream",
     "text": [
      "The accuracy of sklearn's plain NN on the digits data is 91.38888888888889\n"
     ]
    },
    {
     "name": "stderr",
     "output_type": "stream",
     "text": [
      "C:\\ProgramData\\Anaconda3\\lib\\site-packages\\sklearn\\neural_network\\_multilayer_perceptron.py:571: ConvergenceWarning: Stochastic Optimizer: Maximum iterations (3000) reached and the optimization hasn't converged yet.\n",
      "  % self.max_iter, ConvergenceWarning)\n"
     ]
    }
   ],
   "source": [
    "plain_nn = MLPClassifier(solver=\"sgd\", momentum=0, nesterovs_momentum=False, random_state=0, hidden_layer_sizes=(30,), max_iter=3000, activation=\"tanh\").fit(X_train, y_v_train).predict(X_test)\n",
    "print(f\"The accuracy of sklearn's plain NN on the digits data is {100 * accuracy_score(y_v_test, plain_nn)}\")"
   ]
  },
  {
   "cell_type": "markdown",
   "metadata": {},
   "source": [
    "### ii) Check the accuracy of sklearn's neural network with Nesterov momentum on the digits data"
   ]
  },
  {
   "cell_type": "code",
   "execution_count": 10,
   "metadata": {},
   "outputs": [
    {
     "name": "stdout",
     "output_type": "stream",
     "text": [
      "The accuracy of sklearn's NN with Nesterov momentum on the digits data is 94.44444444444444\n"
     ]
    }
   ],
   "source": [
    "mome_nn = MLPClassifier(solver=\"sgd\", random_state=0, momentum=0.9, nesterovs_momentum=True, hidden_layer_sizes=(30,), max_iter=3000, activation=\"tanh\").fit(X_train, y_v_train).predict(X_test)\n",
    "print(f\"The accuracy of sklearn's NN with Nesterov momentum on the digits data is {100 * accuracy_score(y_v_test, mome_nn)}\")"
   ]
  },
  {
   "cell_type": "markdown",
   "metadata": {},
   "source": [
    "### iii) Check the accuracy of sklearn's plain neural network on the spam data"
   ]
  },
  {
   "cell_type": "code",
   "execution_count": 11,
   "metadata": {
    "scrolled": true
   },
   "outputs": [
    {
     "name": "stdout",
     "output_type": "stream",
     "text": [
      "The accuracy of sklearn's plain NN on the spam data is 87.29361091170136\n"
     ]
    },
    {
     "name": "stderr",
     "output_type": "stream",
     "text": [
      "C:\\ProgramData\\Anaconda3\\lib\\site-packages\\sklearn\\neural_network\\_multilayer_perceptron.py:571: ConvergenceWarning: Stochastic Optimizer: Maximum iterations (300) reached and the optimization hasn't converged yet.\n",
      "  % self.max_iter, ConvergenceWarning)\n"
     ]
    }
   ],
   "source": [
    "sk_plain_nn = MLPClassifier(solver=\"sgd\", momentum=0, nesterovs_momentum=False, random_state=0, hidden_layer_sizes=(30,), max_iter=300, activation=\"tanh\")\n",
    "sk_plain_nn.fit(X_train_msgs, y_train_msgs)\n",
    "print(f\"The accuracy of sklearn's plain NN on the spam data is {100 * sk_plain_nn.score(X_test_msgs, y_test_msgs)}\")"
   ]
  },
  {
   "cell_type": "markdown",
   "metadata": {},
   "source": [
    "### iv) Check the accuracy of sklearn's neural network with Nesterov momentum on the spam data"
   ]
  },
  {
   "cell_type": "code",
   "execution_count": 12,
   "metadata": {},
   "outputs": [
    {
     "name": "stdout",
     "output_type": "stream",
     "text": [
      "The accuracy of sklearn's NN with Nesterov momentum on the spam data is 97.98994974874373\n"
     ]
    },
    {
     "name": "stderr",
     "output_type": "stream",
     "text": [
      "C:\\ProgramData\\Anaconda3\\lib\\site-packages\\sklearn\\neural_network\\_multilayer_perceptron.py:571: ConvergenceWarning: Stochastic Optimizer: Maximum iterations (300) reached and the optimization hasn't converged yet.\n",
      "  % self.max_iter, ConvergenceWarning)\n"
     ]
    }
   ],
   "source": [
    "sk_mom_nn = MLPClassifier(solver=\"sgd\", momentum=0.9, nesterovs_momentum=True, random_state=0, hidden_layer_sizes=(30,), max_iter=300, activation=\"tanh\")\n",
    "sk_mom_nn.fit(X_train_msgs, y_train_msgs)\n",
    "print(f\"The accuracy of sklearn's NN with Nesterov momentum on the spam data is {100 * sk_mom_nn.score(X_test_msgs, y_test_msgs)}\")"
   ]
  }
 ],
 "metadata": {
  "kernelspec": {
   "display_name": "Python 3",
   "language": "python",
   "name": "python3"
  },
  "language_info": {
   "codemirror_mode": {
    "name": "ipython",
    "version": 3
   },
   "file_extension": ".py",
   "mimetype": "text/x-python",
   "name": "python",
   "nbconvert_exporter": "python",
   "pygments_lexer": "ipython3",
   "version": "3.7.7"
  }
 },
 "nbformat": 4,
 "nbformat_minor": 4
}
