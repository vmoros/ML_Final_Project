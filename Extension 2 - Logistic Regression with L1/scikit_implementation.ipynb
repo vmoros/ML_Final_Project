{
 "cells": [
  {
   "cell_type": "markdown",
   "metadata": {},
   "source": [
    "<h1><center>scikit-learn implementations of Extension 2 - Logistic Regression with L1 regularization</center></h1>"
   ]
  },
  {
   "cell_type": "markdown",
   "metadata": {},
   "source": [
    "### Imports"
   ]
  },
  {
   "cell_type": "code",
   "execution_count": 9,
   "metadata": {},
   "outputs": [],
   "source": [
    "from PIL import Image\n",
    "import numpy as np\n",
    "import glob\n",
    "from sklearn.preprocessing import StandardScaler\n",
    "from sklearn.metrics import f1_score\n",
    "from sklearn.model_selection import train_test_split\n",
    "from sklearn.linear_model import SGDClassifier\n",
    "from sklearn.datasets import load_breast_cancer\n",
    "import matplotlib.pyplot as plt"
   ]
  },
  {
   "cell_type": "markdown",
   "metadata": {},
   "source": [
    "### Get the dogs data\n",
    "\n",
    "I took the Chihuahua and Japanese Spaniel images and put them in the \"selected_images/class0\" directory and I put the Maltese and Pekinese images in the \"selected_images/class1\" directory.\n",
    "\n",
    "So the classifier is distinguishing between \\[Chihuahua or Japanese Spaniel\\] and \\[Maltese or Pekinese\\]."
   ]
  },
  {
   "cell_type": "code",
   "execution_count": 10,
   "metadata": {},
   "outputs": [],
   "source": [
    "def get_all_data():\n",
    "    pics = list()\n",
    "    y_all = np.array([], dtype=np.int8)\n",
    "    new_size = (6, 6)\n",
    "\n",
    "    for i, folder in enumerate([\"selected_images/class0\", \"selected_images/class1\"]):\n",
    "        for f in glob.glob(f\"{folder}/*\"):\n",
    "            curr_pic = np.array(Image.open(f).resize(new_size)).reshape(-1) # shrink and flatten the pic\n",
    "            pics.append(curr_pic)\n",
    "            y_all = np.concatenate((y_all, [i])) # all pictures in a given folder have the same label\n",
    "            \n",
    "    X_all = np.array(pics)\n",
    "    return X_all, y_all"
   ]
  },
  {
   "cell_type": "code",
   "execution_count": 11,
   "metadata": {},
   "outputs": [],
   "source": [
    "X_all, y_all = get_all_data()\n",
    "X_train, X_test, y_train, y_test = train_test_split(X_all, y_all, train_size=0.8, random_state=0)\n",
    "X_train = StandardScaler().fit_transform(X_train)\n",
    "X_test = StandardScaler().fit_transform(X_test)"
   ]
  },
  {
   "cell_type": "markdown",
   "metadata": {},
   "source": [
    "### Get the breast cancer data"
   ]
  },
  {
   "cell_type": "code",
   "execution_count": 12,
   "metadata": {},
   "outputs": [],
   "source": [
    "X_all_bc, y_all_bc = load_breast_cancer(return_X_y=True)\n",
    "X_train_bc, X_test_bc, y_train_bc, y_test_bc = train_test_split(X_all_bc, y_all_bc, train_size=0.8, random_state=0)\n",
    "scaler = StandardScaler().fit(X_train_bc)\n",
    "X_train_bc = scaler.transform(X_train_bc)\n",
    "X_test_bc = scaler.transform(X_test_bc)"
   ]
  },
  {
   "cell_type": "markdown",
   "metadata": {},
   "source": [
    "# Evaluate scikit-learn's F1 scores"
   ]
  },
  {
   "cell_type": "markdown",
   "metadata": {},
   "source": [
    "### i) Check the F1 score of sklearn's plain logistic regression on the dogs data"
   ]
  },
  {
   "cell_type": "code",
   "execution_count": 13,
   "metadata": {},
   "outputs": [
    {
     "name": "stdout",
     "output_type": "stream",
     "text": [
      "The F1 score of sklearn's plain LR on the dogs data is 58.68263473053893\n"
     ]
    }
   ],
   "source": [
    "plain_SGD = SGDClassifier(loss=\"log\", shuffle=False, alpha=0, penalty=None, eta0=0.1, learning_rate=\"constant\", tol=None, random_state=0).fit(X_train, y_train)\n",
    "plain_y_pred = plain_SGD.predict(X_test)\n",
    "print(f\"The F1 score of sklearn's plain LR on the dogs data is {100 * f1_score(y_test, plain_y_pred)}\")"
   ]
  },
  {
   "cell_type": "markdown",
   "metadata": {},
   "source": [
    "### ii) Check the F1 score of sklearn's logistic regression with L1 regularization on the dogs data"
   ]
  },
  {
   "cell_type": "code",
   "execution_count": 14,
   "metadata": {},
   "outputs": [
    {
     "name": "stdout",
     "output_type": "stream",
     "text": [
      "The F1 score of sklearn's LR with L1 on the dogs data is 70.96774193548386\n"
     ]
    }
   ],
   "source": [
    "l1_SGD = SGDClassifier(loss=\"log\", shuffle=False, penalty=\"l1\", alpha=0.01, tol=None, random_state=0, learning_rate=\"constant\", eta0=0.1).fit(X_train, y_train)\n",
    "l1_y_pred = l1_SGD.predict(X_test)\n",
    "print(f\"The F1 score of sklearn's LR with L1 on the dogs data is {100 * f1_score(y_test, l1_y_pred)}\")"
   ]
  },
  {
   "cell_type": "markdown",
   "metadata": {},
   "source": [
    "### iii) Check the F1 score of sklearn's plain logistic regression on the breast cancer data"
   ]
  },
  {
   "cell_type": "code",
   "execution_count": 15,
   "metadata": {},
   "outputs": [
    {
     "name": "stdout",
     "output_type": "stream",
     "text": [
      "The F1 score of sklearn's plain LR on the breast cancer data is 95.45454545454547\n"
     ]
    }
   ],
   "source": [
    "plain_LR_sk = SGDClassifier(loss=\"log\", shuffle=False, alpha=0, penalty=None, eta0=0.1, learning_rate=\"constant\", tol=None, random_state=0).fit(X_train_bc, y_train_bc)\n",
    "plain_preds_bc_sk = plain_LR_sk.predict(X_test_bc)\n",
    "print(f\"The F1 score of sklearn's plain LR on the breast cancer data is {100 * f1_score(y_test_bc, plain_preds_bc_sk)}\")"
   ]
  },
  {
   "cell_type": "markdown",
   "metadata": {},
   "source": [
    "### iv) Check the F1 score of sklearn's logistic regression with L1 regularization on the breast cancer data"
   ]
  },
  {
   "cell_type": "code",
   "execution_count": 16,
   "metadata": {},
   "outputs": [
    {
     "name": "stdout",
     "output_type": "stream",
     "text": [
      "The F1 score of my LR with L1 on the breast cancer data is 97.05882352941177\n"
     ]
    }
   ],
   "source": [
    "l1_LR_sk = SGDClassifier(loss=\"log\", shuffle=False, penalty=\"l1\", alpha=0.01, tol=None, random_state=0, learning_rate=\"constant\", eta0=0.1).fit(X_train_bc, y_train_bc)\n",
    "l1_preds_bc_sk = l1_LR_sk.predict(X_test_bc)\n",
    "print(f\"The F1 score of my LR with L1 on the breast cancer data is {100 * f1_score(y_test_bc, l1_preds_bc_sk)}\")"
   ]
  }
 ],
 "metadata": {
  "kernelspec": {
   "display_name": "Python 3",
   "language": "python",
   "name": "python3"
  },
  "language_info": {
   "codemirror_mode": {
    "name": "ipython",
    "version": 3
   },
   "file_extension": ".py",
   "mimetype": "text/x-python",
   "name": "python",
   "nbconvert_exporter": "python",
   "pygments_lexer": "ipython3",
   "version": "3.7.7"
  }
 },
 "nbformat": 4,
 "nbformat_minor": 4
}
