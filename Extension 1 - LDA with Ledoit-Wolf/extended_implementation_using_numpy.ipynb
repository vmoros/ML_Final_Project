{
 "cells": [
  {
   "cell_type": "markdown",
   "metadata": {},
   "source": [
    "<h1><center>Homemade implementations of Extension 1 - LDA with Ledoit-Wolf</center></h1>"
   ]
  },
  {
   "cell_type": "markdown",
   "metadata": {},
   "source": [
    "### Imports"
   ]
  },
  {
   "cell_type": "code",
   "execution_count": 1,
   "metadata": {},
   "outputs": [],
   "source": [
    "import numpy as np\n",
    "from sklearn.datasets import load_iris\n",
    "from sklearn.datasets import load_wine\n",
    "from sklearn.metrics import accuracy_score\n",
    "from sklearn.model_selection import train_test_split"
   ]
  },
  {
   "cell_type": "markdown",
   "metadata": {},
   "source": [
    "### Get the wine data"
   ]
  },
  {
   "cell_type": "code",
   "execution_count": 2,
   "metadata": {},
   "outputs": [],
   "source": [
    "wine = load_wine()\n",
    "X_all = wine.data\n",
    "y_all = wine.target"
   ]
  },
  {
   "cell_type": "code",
   "execution_count": 3,
   "metadata": {},
   "outputs": [],
   "source": [
    "X_train, X_test, y_train, y_test = train_test_split(X_all, y_all, train_size=0.8, random_state=0)"
   ]
  },
  {
   "cell_type": "markdown",
   "metadata": {},
   "source": [
    "### Get the iris data"
   ]
  },
  {
   "cell_type": "code",
   "execution_count": 4,
   "metadata": {},
   "outputs": [],
   "source": [
    "data = load_iris()\n",
    "petal_length = data.data[:,2].reshape(-1,1)\n",
    "petal_width = data.data[:,3].reshape(-1,1)\n",
    "X_all_iris = np.hstack((petal_length, petal_width))  # only using 2 attributes\n",
    "y_all_iris = data.target"
   ]
  },
  {
   "cell_type": "code",
   "execution_count": 5,
   "metadata": {},
   "outputs": [],
   "source": [
    "X_train_iris, X_test_iris, y_train_iris, y_test_iris = train_test_split(X_all_iris, y_all_iris, train_size=0.8, random_state=0)"
   ]
  },
  {
   "cell_type": "markdown",
   "metadata": {},
   "source": [
    "### Homemade Ledoit-Wolf LDA implementation"
   ]
  },
  {
   "cell_type": "code",
   "execution_count": 6,
   "metadata": {},
   "outputs": [],
   "source": [
    "def get_class_priors(y): # return dict in which keys are classes and values are proportions of each class in the data\n",
    "    priors = dict()\n",
    "    for c in set(y):\n",
    "        priors[c] = np.sum(y == c) / y.shape[0]\n",
    "    return priors"
   ]
  },
  {
   "cell_type": "code",
   "execution_count": 7,
   "metadata": {},
   "outputs": [],
   "source": [
    "def ledoit_wolf(X):\n",
    "    n, d = X.shape\n",
    "    cov = np.cov(X, rowvar=False, bias=1)                         # the paper calls this Sn, defined at the beginning of section 3.2 on page 377\n",
    "    mn = np.trace(cov) / d                                        # lemma 3.2 on page 379, the brackets are defined on page 368\n",
    "    dn = np.sum(np.square(cov - mn))                              # lemma 3.3 on page 379\n",
    "    b_bar = (1 / (n ** 2)) * np.sum(np.square(X.T @ X / n - cov)) # top of page 380\n",
    "    bn = min(b_bar, dn)                                           # top of page 380\n",
    "    return (bn / dn) * mn + ((dn - bn) / dn) * cov                # lemma 3.5 on page 380"
   ]
  },
  {
   "cell_type": "code",
   "execution_count": 8,
   "metadata": {},
   "outputs": [],
   "source": [
    "def get_lda_covar(X, y, priors, ledoit=False):\n",
    "    if not ledoit: # plain LDA uses the weighted sum of the covariance matrices of each class, aka the scatter matrix\n",
    "        covs = [priors[c] * np.cov(X[y==c], rowvar=False, bias=1) for c in priors]\n",
    "        return np.add.reduce(covs)\n",
    "    else:\n",
    "        return ledoit_wolf(X)"
   ]
  },
  {
   "cell_type": "code",
   "execution_count": 9,
   "metadata": {},
   "outputs": [],
   "source": [
    "def get_lda_means(X, y):\n",
    "    answer = dict()\n",
    "    for c in set(y):\n",
    "        answer[c] = np.mean(X[y == c], axis=0)\n",
    "    return answer"
   ]
  },
  {
   "cell_type": "code",
   "execution_count": 10,
   "metadata": {},
   "outputs": [],
   "source": [
    "def lda_pdf(x, mu, cov): # the usual multivariate Gaussian pdf \n",
    "    scale = 1 / (((2 * np.pi)**((mu.shape[0])/2)) * np.sqrt(np.linalg.det(cov)))\n",
    "    part2 = (-1/2) * ((x-mu).T @ np.linalg.inv(cov) @ (x-mu))\n",
    "    return scale * np.exp(part2)"
   ]
  },
  {
   "cell_type": "code",
   "execution_count": 11,
   "metadata": {},
   "outputs": [],
   "source": [
    "def lda_classify(X_train, y_train, X_test, ledoit):\n",
    "    priors = get_class_priors(y_train)\n",
    "    mus = get_lda_means(X_train, y_train)\n",
    "    cov = get_lda_covar(X_train, y_train, priors, ledoit)\n",
    "    predictions = []\n",
    "    \n",
    "    for example in X_test:\n",
    "        best_class = None\n",
    "        best_likelihood = -1\n",
    "        for c in priors:\n",
    "            curr_likelihood = priors[c] * lda_pdf(example, mus[c], cov)\n",
    "            if curr_likelihood > best_likelihood:\n",
    "                best_likelihood = curr_likelihood\n",
    "                best_class = c\n",
    "        predictions.append(best_class)\n",
    "    \n",
    "    return predictions"
   ]
  },
  {
   "cell_type": "markdown",
   "metadata": {},
   "source": [
    "# Evaluate my homemade implementation's accuracy"
   ]
  },
  {
   "cell_type": "markdown",
   "metadata": {},
   "source": [
    "### i) Check the accuracy of my Ledoit-Wolf LDA on the wine data"
   ]
  },
  {
   "cell_type": "code",
   "execution_count": 12,
   "metadata": {},
   "outputs": [
    {
     "name": "stdout",
     "output_type": "stream",
     "text": [
      "The accuracy of my Ledoit-Wolf LDA on the wine data is 100.0\n"
     ]
    }
   ],
   "source": [
    "ledoit_wolf_pred = lda_classify(X_train, y_train, X_test, True)\n",
    "print(f\"The accuracy of my Ledoit-Wolf LDA on the wine data is {100 * accuracy_score(y_test, ledoit_wolf_pred)}\")"
   ]
  },
  {
   "cell_type": "markdown",
   "metadata": {},
   "source": [
    "### ii) Check the accuracy of my Ledoit-Wolf LDA on the iris data"
   ]
  },
  {
   "cell_type": "code",
   "execution_count": 13,
   "metadata": {},
   "outputs": [
    {
     "name": "stdout",
     "output_type": "stream",
     "text": [
      "The accuracy of Ledoit-Wolf LDA on the iris dataset is 93.33333333333333\n"
     ]
    }
   ],
   "source": [
    "ledoit_wolf_pred_iris = lda_classify(X_train_iris, y_train_iris, X_test_iris, True)\n",
    "print(f\"The accuracy of Ledoit-Wolf LDA on the iris dataset is {100 * accuracy_score(y_test_iris, ledoit_wolf_pred_iris)}\")"
   ]
  }
 ],
 "metadata": {
  "kernelspec": {
   "display_name": "Python 3",
   "language": "python",
   "name": "python3"
  },
  "language_info": {
   "codemirror_mode": {
    "name": "ipython",
    "version": 3
   },
   "file_extension": ".py",
   "mimetype": "text/x-python",
   "name": "python",
   "nbconvert_exporter": "python",
   "pygments_lexer": "ipython3",
   "version": "3.7.7"
  }
 },
 "nbformat": 4,
 "nbformat_minor": 4
}
