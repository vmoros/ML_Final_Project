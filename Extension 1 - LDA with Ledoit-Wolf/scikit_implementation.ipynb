{
 "cells": [
  {
   "cell_type": "markdown",
   "metadata": {},
   "source": [
    "<h1><center>scikit-learn implementations of Extension 1 - LDA with Ledoit-Wolf</center></h1>"
   ]
  },
  {
   "cell_type": "markdown",
   "metadata": {},
   "source": [
    "### Imports"
   ]
  },
  {
   "cell_type": "code",
   "execution_count": 34,
   "metadata": {},
   "outputs": [],
   "source": [
    "import numpy as np\n",
    "from sklearn.datasets import load_iris\n",
    "from sklearn.datasets import load_wine\n",
    "from sklearn.metrics import accuracy_score\n",
    "from sklearn.model_selection import train_test_split\n",
    "from sklearn.discriminant_analysis import LinearDiscriminantAnalysis"
   ]
  },
  {
   "cell_type": "markdown",
   "metadata": {},
   "source": [
    "### Get the wine data"
   ]
  },
  {
   "cell_type": "code",
   "execution_count": 35,
   "metadata": {},
   "outputs": [],
   "source": [
    "wine = load_wine()\n",
    "X_all = wine.data\n",
    "y_all = wine.target"
   ]
  },
  {
   "cell_type": "code",
   "execution_count": 36,
   "metadata": {},
   "outputs": [],
   "source": [
    "X_train, X_test, y_train, y_test = train_test_split(X_all, y_all, train_size=0.8, random_state=0)"
   ]
  },
  {
   "cell_type": "markdown",
   "metadata": {},
   "source": [
    "### Get the iris data"
   ]
  },
  {
   "cell_type": "code",
   "execution_count": 37,
   "metadata": {},
   "outputs": [],
   "source": [
    "data = load_iris()\n",
    "petal_length = data.data[:,2].reshape(-1,1)\n",
    "petal_width = data.data[:,3].reshape(-1,1)\n",
    "X_all_iris = np.hstack((petal_length, petal_width))  # only using 2 attributes\n",
    "y_all_iris = data.target"
   ]
  },
  {
   "cell_type": "code",
   "execution_count": 38,
   "metadata": {},
   "outputs": [],
   "source": [
    "X_train_iris, X_test_iris, y_train_iris, y_test_iris = train_test_split(X_all_iris, y_all_iris, train_size=0.8, random_state=0)"
   ]
  },
  {
   "cell_type": "markdown",
   "metadata": {},
   "source": [
    "# Evaluate scikit-learn's accuracy"
   ]
  },
  {
   "cell_type": "markdown",
   "metadata": {},
   "source": [
    "### i) Check the accuracy of scikit-learn's plain LDA on the wine data"
   ]
  },
  {
   "cell_type": "code",
   "execution_count": 39,
   "metadata": {},
   "outputs": [
    {
     "name": "stdout",
     "output_type": "stream",
     "text": [
      "The accuracy of scikit-learn's plain LDA on the wine data is 97.22222222222221\n"
     ]
    }
   ],
   "source": [
    "sk_plain = LinearDiscriminantAnalysis().fit(X_train, y_train).predict(X_test)\n",
    "print(f\"The accuracy of scikit-learn's plain LDA on the wine data is {100 * accuracy_score(y_test, sk_plain)}\")"
   ]
  },
  {
   "cell_type": "markdown",
   "metadata": {},
   "source": [
    "### ii) Check the accuracy of scikit-learn's Ledoit-Wolf LDA on the wine data"
   ]
  },
  {
   "cell_type": "code",
   "execution_count": 40,
   "metadata": {},
   "outputs": [
    {
     "name": "stdout",
     "output_type": "stream",
     "text": [
      "The accuracy of scikit-learn's Ledoit-Wolf LDA on the wine data is 100.0\n"
     ]
    }
   ],
   "source": [
    "sk_ledoit = LinearDiscriminantAnalysis(solver=\"lsqr\", shrinkage=\"auto\").fit(X_train, y_train).predict(X_test)\n",
    "print(f\"The accuracy of scikit-learn's Ledoit-Wolf LDA on the wine data is {100 * accuracy_score(y_test, sk_ledoit)}\")"
   ]
  },
  {
   "cell_type": "markdown",
   "metadata": {},
   "source": [
    "### iii) Check the accuracy of scikit-learn's plain LDA on the iris data"
   ]
  },
  {
   "cell_type": "code",
   "execution_count": 41,
   "metadata": {},
   "outputs": [
    {
     "name": "stdout",
     "output_type": "stream",
     "text": [
      "The accuracy of scikit-learn's plain LDA on the iris data is 96.66666666666667\n"
     ]
    }
   ],
   "source": [
    "sk_plain_iris = LinearDiscriminantAnalysis().fit(X_train_iris, y_train_iris).predict(X_test_iris)\n",
    "print(f\"The accuracy of scikit-learn's plain LDA on the iris data is {100 * accuracy_score(y_test_iris, sk_plain_iris)}\")"
   ]
  },
  {
   "cell_type": "markdown",
   "metadata": {},
   "source": [
    "### iv) Check the accuracy of scikit-learn's Ledoit-Wolf LDA on the iris data"
   ]
  },
  {
   "cell_type": "code",
   "execution_count": 42,
   "metadata": {},
   "outputs": [
    {
     "name": "stdout",
     "output_type": "stream",
     "text": [
      "The accuracy of scikit-learn's Ledoit-Wolf LDA on the iris data is 96.66666666666667\n"
     ]
    }
   ],
   "source": [
    "sk_ledoit_iris = LinearDiscriminantAnalysis(solver=\"lsqr\", shrinkage=\"auto\").fit(X_train_iris, y_train_iris).predict(X_test_iris)\n",
    "print(f\"The accuracy of scikit-learn's Ledoit-Wolf LDA on the iris data is {100 * accuracy_score(y_test_iris, sk_ledoit_iris)}\")"
   ]
  }
 ],
 "metadata": {
  "kernelspec": {
   "display_name": "Python 3",
   "language": "python",
   "name": "python3"
  },
  "language_info": {
   "codemirror_mode": {
    "name": "ipython",
    "version": 3
   },
   "file_extension": ".py",
   "mimetype": "text/x-python",
   "name": "python",
   "nbconvert_exporter": "python",
   "pygments_lexer": "ipython3",
   "version": "3.7.7"
  }
 },
 "nbformat": 4,
 "nbformat_minor": 4
}
